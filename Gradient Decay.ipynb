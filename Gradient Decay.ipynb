import numpy as np
import pandas as pd
import seaborn as sns
import matplotlib.pyplot as plt
import scipy
%matplotlib inline


# создаем dataframe
adver_data = pd.read_csv('d:\\testing\\advertising.csv')

# смотрим на первые пять записей для оценки
adver_data.head()

# смотрим на статистику признаков данных
adver_data.plot(y='TV', kind='hist')
adver_data.plot(y='Radio', kind='hist', color='red')
adver_data.plot(y='Newspaper', kind='hist', color='green')
sns.pairplot(adver_data)

# берем отдельно массивы признаков и массив ответов
X = adver_data[['TV', 'Radio', 'Newspaper']]
y = adver_data.Sales

# считаем средние и стандартные отклонения
means, stds = X.apply(np.mean), X.apply(np.std)

# нормируем вектора данных в Х
X = X.apply(lambda x: (x - means)/stds, axis='columns')

# добавляем к матрице значений признаков единичный столбец
X['x0'] = 1
X = X[['x0', 'TV', 'Radio', 'Newspaper']]

# функция ошибок для нашей выборки, здесь 200 - объем выборки
def mserror(y, y_pred):
    return sum(map((lambda x1, x2: (x1 - x2) ** 2), y, y_pred))/200

# если y_pred взять равным медианному значению, то ошибка будет равна
y_mean = [np.median(y)] * 200
answer1 = mserror(y, y_mean)
print(round(answer1, 3))

# находим столбец весов через решение матричного уравнения
# Xt * X * w = Xt * y
def normal_equation(X, y):
    A = np.dot(np.transpose(X), X)
    b = np.dot(np.transpose(X), y)
    w = np.linalg.solve(A, b)
    return w

norm_eq_weights = normal_equation(X, y)
print(norm_eq_weights)

# Через вычисленные веса можем посчитать, что предсказывает модель,
# если взять, например, усредненные значения признаков
# answer2 = 1*14.0225 + 3.91925365*147.0425 + 2.79206274*23.2640 + (-0.02253861)*30.5540
answer2 = 1*14.0225 + 0 + 0 + 0
print(round(answer2, 3))

# считаем вектор прогнозов, как произведение матриц Х и w
def linear_prediction(X, w):
    return X.apply(lambda x: np.dot(x, w), axis = 'columns')

# считаем ошибку прогноза
answer3 = mserror(y, linear_prediction(X, norm_eq_weights))
print(round(answer3, 3))

# шаг стохастического градиентного спуска
def stochastic_gradient_step(X, y, w, train_ind, eta=0.01):
    l = len(y)
    x_k = X.values[train_ind]
    y_k = y.values[train_ind]
    return w + 2*eta/l*x_k*(y_k - np.dot(w, x_k))

# стохастический градиентный спуск
def stochastic_gradient_descent(X, y, w_init, eta=1e-2, max_iter=1e4,
                                min_weight_dist=1e-8, seed=42, verbose=False):
    # Инициализируем расстояние между векторами весов на соседних
    # итерациях большим числом. 
    weight_dist = np.inf
    # Инициализируем вектор весов
    w = w_init
    # Сюда будем записывать ошибки на каждой итерации
    errors = []
    # Счетчик итераций
    iter_num = 0
    # Будем порождать псевдослучайные числа 
    # (номер объекта, который будет менять веса), а для воспроизводимости
    # этой последовательности псевдослучайных чисел используем seed.
    np.random.seed(seed)
        
    # Основной цикл
    while weight_dist > min_weight_dist and iter_num < max_iter:
        # порождаем псевдослучайный 
        # индекс объекта обучающей выборки
        random_ind = np.random.randint(X.shape[0])
        w_new = stochastic_gradient_step(X, y, w, random_ind, eta)
        y_pred = linear_prediction(X, w_new)
        errors.append(mserror(y, y_pred))
        
        weight_dist = np.linalg.norm(w - w_new)
        
        iter_num += 1
        w = w_new
    return w, errors

# запускаем процесс для 10^5 итераций, начальные веса - нулевые.
# смотрим на получившийся вектор весов и на изменение ошибки 
stoch_grad_desc_weights, stoch_errors_by_iter = stochastic_gradient_descent(X, y, np.zeros(4), max_iter = 1e5)
print(stoch_grad_desc_weights, stoch_errors_by_iter)

# первые 50 шагов
%pylab inline
plot(range(50), stoch_errors_by_iter[:50])
xlabel('Iteration number')
ylabel('MSE')

# все 10000 шагов
%pylab inline
plot(range(len(stoch_errors_by_iter)), stoch_errors_by_iter)
xlabel('Iteration number')
ylabel('MSE')

# на последнем шаге ошибка такая
answer4 = stoch_errors_by_iter[-1]
print(round(answer4, 3))
